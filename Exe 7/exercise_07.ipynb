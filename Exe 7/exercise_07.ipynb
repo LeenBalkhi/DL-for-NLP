{
 "cells": [
  {
   "cell_type": "markdown",
   "id": "a5d8f8dde9362918",
   "metadata": {},
   "source": [
    "# Exercise 7: Encoder"
   ]
  },
  {
   "cell_type": "markdown",
   "id": "be19d974b513a6c0",
   "metadata": {},
   "source": [
    "Copy the data loading, vectorization and `SelfAttention` implementation from the previous exercises."
   ]
  },
  {
   "cell_type": "code",
   "execution_count": null,
   "id": "3a55c1f5",
   "metadata": {},
   "outputs": [],
   "source": []
  },
  {
   "cell_type": "code",
   "execution_count": null,
   "id": "7abae0e4",
   "metadata": {},
   "outputs": [],
   "source": [
    "tokens2idx = {TOK_1: 0, TOK_2: 1, TOK_3: 2, TOK_4: 3}\n",
    "    init_index = len(tokens2idx)\n",
    "\n",
    "    # map each vocab token to a unique index\n",
    "    for i, token in enumerate(vocab):\n",
    "        tokens2idx[token] = i + init_index\n",
    "    # build inverse mapping\n",
    "    index_2_token = {idx: tok for tok, idx in tokens_2_index_dict.items()}\n",
    "\n",
    "    # compute vocab size\n",
    "    vocab_size = len(tokens_2_index_dict)\n",
    "\n",
    "    # convert sentences to lists of token indices\n",
    "    sentences_2_tokens_lst = []\n",
    "    for sentence in sentences:\n",
    "        lst_temporal = []\n",
    "        for word in sentence.split():\n",
    "            lst_temporal.append(tokens_2_index_dict[word])\n",
    "        sentences_2_tokens_lst.append(lst_temporal)\n",
    "\n",
    "    return tokens_2_index_dict, index_2_token, vocab_size, sentences_2_tokens_lst"
   ]
  },
  {
   "cell_type": "code",
   "execution_count": 115,
   "id": "429e50f72e0e7bf7",
   "metadata": {},
   "outputs": [],
   "source": [
    "import torch\n",
    "import torch.nn as nn\n",
    "import torch.nn.functional as F\n",
    "import numpy as np\n",
    "from gensim.downloader import load as gensim_load\n",
    "from datasets import load_dataset, concatenate_datasets"
   ]
  },
  {
   "cell_type": "markdown",
   "id": "3193458a8af39a9b",
   "metadata": {},
   "source": [
    "## C.1 Multi-Head Attention"
   ]
  },
  {
   "cell_type": "code",
   "execution_count": 116,
   "id": "66d4d2761ff92370",
   "metadata": {},
   "outputs": [],
   "source": [
    "# You can reuse the `SelfAttention` class from Exercise 6, but you might need to extend it to support masking (C.1.1.v).\n",
    "class SelfAttention(nn.Module):\n",
    "    def __init__(self, d_model, d_k):\n",
    "        super().__init__()\n",
    "        # define the weight matrices W_Q, W_K, and W_V\n",
    "        self.model = d_model\n",
    "        self.d_k = d_k\n",
    "\n",
    "        # learnable weight matrices\n",
    "        self.W_Q = nn.Linear(d_model, d_k) #x @ weight + bias\n",
    "        self.W_K = nn.Linear(d_model, d_k) #x @ weight + bias\n",
    "        self.W_V = nn.Linear(d_model, d_k) #....\n",
    "\n",
    "\n",
    "    def forward(self, x, mask=None):\n",
    "        #vector production\n",
    "        W_Q = self.W_Q(x)\n",
    "        W_K = self.W_K(x)\n",
    "        W_V = self.W_V(x)\n",
    "         \n",
    "        #attention score using dot product between queries and keys\n",
    "        scores = torch.matmul (W_Q, W_K.transpose(-2,-1)) / np.sqrt(self.d_k)\n",
    "\n",
    "        if mask is not None: \n",
    "            #adding minus infinity to masked values (with 0 zero) to nullify after softmax\n",
    "            #-1e9\n",
    "            mask = mask.unsqueeze(1)\n",
    "            scores= scores.masked_fill(mask ==0, float('-inf'))\n",
    "        W_attention = F.softmax(scores, dim=-1)\n",
    "        #attention-weighted sum of the value vector\n",
    "        out = torch.matmul(W_attention, W_V)\n",
    "        return out"
   ]
  },
  {
   "cell_type": "code",
   "execution_count": 117,
   "id": "e0350ceb3042e7f9",
   "metadata": {},
   "outputs": [],
   "source": [
    "# C.1.1 Multi-Head Attention\n",
    "class MultiHeadAttention(nn.Module):\n",
    "    def __init__(self, d_model, n_heads, d_k=None):\n",
    "        super().__init__()\n",
    "        self.d_model = d_model\n",
    "        self.d_k = d_k\n",
    "        self.n_heads = n_heads\n",
    "\n",
    "\n",
    "        #concatination (head_1, head_2,... head_n)\n",
    "\n",
    "        self.heads = nn.ModuleList(\n",
    "            [SelfAttention(d_model, d_k) for _ in range (n_heads) ]\n",
    "        )\n",
    "        #linear projection/ dense layer\n",
    "        self.proj = nn.Linear(n_heads * d_k, d_model)\n",
    "\n",
    "    def forward(self, x, mask=None):\n",
    "\n",
    "        head_output = []\n",
    "\n",
    "        #calling forward for each self-attention \n",
    "        for head in self.heads: \n",
    "            out = head(x, mask= mask)\n",
    "            head_output.append(out)\n",
    "        concat = torch.cat(head_output, dim =-1)\n",
    "\n",
    "        return self.proj(concat)\n",
    "    "
   ]
  },
  {
   "cell_type": "code",
   "execution_count": 118,
   "id": "2f0bac4442eb71cd",
   "metadata": {},
   "outputs": [],
   "source": [
    "# C.1.2 Add Residual Connection and LayerNorm\n",
    "class MultiHeadBlock(nn.Module):\n",
    "    def __init__(self, d_model, n_heads, d_k=None):\n",
    "        super().__init__()\n",
    "        self.attn = MultiHeadAttention(d_model, n_heads, d_k )\n",
    "        self.norm = nn.LayerNorm(d_model)\n",
    "\n",
    "    def forward(self, x, mask=None):\n",
    "        attn_out = self.attn(x, mask)\n",
    "        # input = x + atten_out residual connection\n",
    "        return self.norm(x + attn_out)\n",
    "    "
   ]
  },
  {
   "cell_type": "markdown",
   "id": "c2e45c65880c8b0c",
   "metadata": {},
   "source": [
    "## C.2 Feed-Forward Network"
   ]
  },
  {
   "cell_type": "code",
   "execution_count": 119,
   "id": "f50665a00d35ea26",
   "metadata": {},
   "outputs": [],
   "source": [
    "# C.2.1 Point-wise Feed-Forward Network\n",
    "class FeedForward(nn.Module):\n",
    "    def __init__(self, d_model, d_ff):\n",
    "        super().__init__()\n",
    "        self.linear1 = nn.Linear(d_model, d_ff)\n",
    "        self.activation = nn.ReLU()\n",
    "        self.linear2 = nn.Linear(d_ff, d_model)\n",
    "\n",
    "    def forward(self, x):\n",
    "        return self.linear2(self.activation(self.linear1(x)))"
   ]
  },
  {
   "cell_type": "code",
   "execution_count": 120,
   "id": "767b86f3f16759dd",
   "metadata": {},
   "outputs": [],
   "source": [
    "# C.2 \n",
    "class FeedForwardBlock(nn.Module):\n",
    "    def __init__(self, d_model, d_ff):\n",
    "        super().__init__()\n",
    "        self.ffn = FeedForward(d_model, d_ff)\n",
    "        self.norm = nn.LayerNorm(d_model)\n",
    "\n",
    "    def forward(self, x):\n",
    "        return self.norm(x + self.ffn(x))"
   ]
  },
  {
   "cell_type": "markdown",
   "id": "6b0d7fa078c06bef",
   "metadata": {},
   "source": [
    "## Task 3: Encoder Block and Sentiment Classifier"
   ]
  },
  {
   "cell_type": "code",
   "execution_count": 121,
   "id": "ea9e70ea40448194",
   "metadata": {},
   "outputs": [],
   "source": [
    "# Implement the Encoder Block, i.e., the combination of MultiHeadBlock and FeedForwardBlock\n",
    "class EncoderBlock(nn.Module):\n",
    "    def __init__(self, d_model, n_heads, d_ff, d_k=None):\n",
    "        super().__init__()\n",
    "        self.attn_block = MultiHeadBlock(d_model, n_heads, d_k)\n",
    "        self.ffn_block = FeedForwardBlock(d_model, d_ff)\n",
    "\n",
    "    def forward(self, x, mask=None):\n",
    "        #adding self attention to each token\n",
    "        x = self.attn_block(x, mask)\n",
    "        #adds non-linear processing for each token\n",
    "        #original information is tracked using residual connection \n",
    "        x = self.ffn_block(x)\n",
    "        return x"
   ]
  },
  {
   "cell_type": "code",
   "execution_count": 122,
   "id": "c67c1985cf512540",
   "metadata": {},
   "outputs": [],
   "source": [
    "class SentimentClassifier(nn.Module):\n",
    "    def __init__(self, d_model, n_heads, d_ff, d_k=None, num_classes=2):\n",
    "        super().__init__()\n",
    "        self.encoder = EncoderBlock(d_model, n_heads, d_ff, d_k)\n",
    "        self.pool = nn.AdaptiveAvgPool1d(1)  # avergae pooling to get a summary of vectors\n",
    "        self.classifier = nn.Linear(d_model, num_classes)\n",
    "\n",
    "    def forward(self, x, mask=None):\n",
    "        #what's the use of the encoder here if i'm only adding one encoder block?\n",
    "        x = self.encoder(x, mask)\n",
    "        x = x.transpose(1, 2)\n",
    "        x = self.pool(x).squeeze(-1)\n",
    "        return self.classifier(x)\n",
    "    \n",
    "#same classifier but with multiple encoder blocks\n",
    "class SentimentClassifier_MB(nn.Module):\n",
    "    def __init__(self, d_model, n_heads, d_ff, d_k=None, num_classes=2):\n",
    "        super().__init__()\n",
    "        \n",
    "        # two encoder blocks\n",
    "        self.encoder_blocks = nn.ModuleList([\n",
    "            EncoderBlock(d_model, n_heads, d_ff, d_k),\n",
    "            EncoderBlock(d_model, n_heads, d_ff, d_k)\n",
    "        ])\n",
    "        \n",
    "        self.pool = nn.AdaptiveAvgPool1d(1)  \n",
    "        self.classifier = nn.Linear(d_model, num_classes)\n",
    "\n",
    "    def forward(self, x, mask=None):\n",
    "        for block in self.encoder_blocks:\n",
    "            x = block(x, mask)  \n",
    "\n",
    "        x = x.transpose(1, 2) \n",
    "        print(x.shape)         \n",
    "        x = self.pool(x).squeeze(-1)     \n",
    "        return self.classifier(x)"
   ]
  },
  {
   "cell_type": "markdown",
   "id": "2af2a0d103dccaf1",
   "metadata": {},
   "source": [
    "## Task 4: Data Preparation (same as in Exercise 6)"
   ]
  },
  {
   "cell_type": "code",
   "execution_count": 123,
   "id": "3ec21b969f1ecad0",
   "metadata": {},
   "outputs": [],
   "source": [
    "glove = gensim_load('glove-wiki-gigaword-100')"
   ]
  },
  {
   "cell_type": "code",
   "execution_count": 124,
   "id": "5540f876aca31a0a",
   "metadata": {},
   "outputs": [],
   "source": [
    "def load_imdb(n_samples=100):\n",
    "    dataset = load_dataset(\"imdb\", split=\"train\")\n",
    "\n",
    "    # How many samples per class\n",
    "    n_per_class = n_samples // 2\n",
    "\n",
    "    # Filter each class\n",
    "    pos = dataset.filter(lambda x: x[\"label\"] == 1).shuffle(seed=42).select(range(n_per_class))\n",
    "    neg = dataset.filter(lambda x: x[\"label\"] == 0).shuffle(seed=42).select(range(n_per_class))\n",
    "    \n",
    "    # Combine and shuffle\n",
    "    balanced = concatenate_datasets([pos, neg]).shuffle(seed=42)\n",
    "\n",
    "    texts = balanced[\"text\"]\n",
    "    labels = balanced[\"label\"]\n",
    "    return texts, labels\n",
    "\n",
    "texts, labels = load_imdb(n_samples=10000)"
   ]
  },
  {
   "cell_type": "code",
   "execution_count": 125,
   "id": "c80deeac5c59da9b",
   "metadata": {},
   "outputs": [],
   "source": [
    "def tokenize(text):\n",
    "    return [w.lower() for w in text.split() if w.isalpha()]"
   ]
  },
  {
   "cell_type": "code",
   "execution_count": 126,
   "id": "5cc93ba78dfeab02",
   "metadata": {},
   "outputs": [],
   "source": [
    "def vectorize(tokens, max_len=128):\n",
    "    embed_dim = glove.vector_size\n",
    "    vecs = []\n",
    "    for token in tokens[:max_len]:\n",
    "        vec = glove[token] if token in glove else np.zeros(embed_dim)\n",
    "        vecs.append(vec)\n",
    "    while len(vecs) < max_len:\n",
    "        vecs.append(np.zeros(embed_dim))\n",
    "    return np.array(vecs)"
   ]
  },
  {
   "cell_type": "code",
   "execution_count": 127,
   "id": "c5bc748f628d6d4d",
   "metadata": {},
   "outputs": [
    {
     "name": "stdout",
     "output_type": "stream",
     "text": [
      "Counter({0: 5000, 1: 5000})\n"
     ]
    }
   ],
   "source": [
    "# Create X and y\n",
    "max_len = 128\n",
    "X = np.stack([\n",
    "    vectorize(tokenize(text), max_len)\n",
    "    for text in texts\n",
    "])\n",
    "y = np.array(labels)\n",
    "\n",
    "X = torch.tensor(X, dtype=torch.float32)\n",
    "y = torch.tensor(y, dtype=torch.long)\n",
    "\n",
    "from collections import Counter\n",
    "print(Counter(labels))  \n"
   ]
  },
  {
   "cell_type": "markdown",
   "id": "f145f54fb61c09ad",
   "metadata": {},
   "source": [
    "## Task 5: Training"
   ]
  },
  {
   "cell_type": "code",
   "execution_count": 128,
   "id": "c3c28d41979cc101",
   "metadata": {},
   "outputs": [],
   "source": [
    "# Chose your model parameters\n",
    "# Remember the rules of thumb:\n",
    "# - d_ff = 4*d_model\n",
    "# - d_k = d_model // n_heads \n",
    "\n",
    "d_model = 100 # todo # can you chose any number here? no. should be the same size as mmy input (vectorized embeddings)\n",
    "n_heads = 10 # todo\n",
    "d_ff = 4 * d_model # todo\n",
    "d_k = d_model // n_heads# todo"
   ]
  },
  {
   "cell_type": "code",
   "execution_count": 129,
   "id": "d23cb432b8e676a6",
   "metadata": {},
   "outputs": [],
   "source": [
    "# define the model, loss, optimizer\n",
    "# todo\n",
    "\n",
    "\n",
    "model = SentimentClassifier(d_model=d_model, n_heads=n_heads, d_ff=d_ff, d_k=d_k, num_classes=2)\n",
    "# classifier with n_class so crossentropy would work. should I have used softmax here? would difference would it make?\n",
    "loss_fn = nn.CrossEntropyLoss()\n",
    "optimizer = torch.optim.Adam(model.parameters(), lr=1e-4)"
   ]
  },
  {
   "cell_type": "code",
   "execution_count": 130,
   "id": "957c4e3c87442fe4",
   "metadata": {},
   "outputs": [
    {
     "name": "stdout",
     "output_type": "stream",
     "text": [
      "Total trainable parameters: 121,502\n",
      "Model parameters relative to BERT base: 0.110456%\n",
      "Model parameters relative to GPT-4: 0.000007%\n"
     ]
    }
   ],
   "source": [
    "# print the total parameter count of the model\n",
    "total_params = sum(p.numel() for p in model.parameters() if p.requires_grad)\n",
    "print(f\"Total trainable parameters: {total_params:,}\")\n",
    "\n",
    "bert_base_params = 110_000_000  # BERT base model has ~110M parameters\n",
    "gpt_4_params = 1_700_000_000_000  # GPT-4 has ~1.7T parameters\n",
    "print(f\"Model parameters relative to BERT base: {100 * total_params / bert_base_params:.6f}%\")\n",
    "print(f\"Model parameters relative to GPT-4: {100 * total_params / gpt_4_params:.6f}%\")"
   ]
  },
  {
   "cell_type": "code",
   "execution_count": 131,
   "id": "8edd5ff0330aaa6d",
   "metadata": {},
   "outputs": [
    {
     "name": "stdout",
     "output_type": "stream",
     "text": [
      "Epoch 1 : loss = 0.6680\n",
      "Epoch 2 : loss = 0.5575\n",
      "Epoch 3 : loss = 0.4967\n",
      "Epoch 4 : loss = 0.4750\n",
      "Epoch 5 : loss = 0.4613\n",
      "Epoch 6 : loss = 0.4516\n",
      "Epoch 7 : loss = 0.4446\n",
      "Epoch 8 : loss = 0.4376\n",
      "Epoch 9 : loss = 0.4329\n",
      "Epoch 10 : loss = 0.4274\n"
     ]
    },
    {
     "data": {
      "image/png": "[encoded data removed]",
      "text/plain": [
       "<Figure size 640x480 with 1 Axes>"
      ]
     },
     "metadata": {},
     "output_type": "display_data"
    }
   ],
   "source": [
    "# define the training loop\n",
    "import matplotlib.pyplot as plt\n",
    "\n",
    "def train_model(model, X, y, num_epochs=5, batch_size=32,device='cuda'):\n",
    "    model.to(device)\n",
    "    X, y = X.to(device), y.to(device)\n",
    "    loss_history = []\n",
    "    for epoch in range(num_epochs):\n",
    "        model.train()\n",
    "        total_loss = 0.0\n",
    "\n",
    "        indices = torch.randperm(len(X)) \n",
    "        for i in range(0, len(X), batch_size):\n",
    "            batch_idx = indices[i:i+batch_size]\n",
    "            inputs = X[batch_idx]\n",
    "            labels = y[batch_idx]\n",
    "\n",
    "\n",
    "            optimizer.zero_grad()\n",
    "            outputs = model(inputs)\n",
    "            loss = loss_fn(outputs, labels)\n",
    "            loss.backward()\n",
    "            optimizer.step()\n",
    "\n",
    "            total_loss += loss.item()\n",
    "\n",
    "        avg_loss = total_loss / (len(X) // batch_size)\n",
    "        loss_history.append(avg_loss)\n",
    "        print(f\"Epoch {epoch+1} : loss = {avg_loss:.4f}\")\n",
    "    return loss_history\n",
    "\n",
    "def plot_loss(loss_history):\n",
    "    plt.plot(loss_history)\n",
    "    plt.title(\"training loss\")\n",
    "    plt.xlabel(\"epoch\")\n",
    "    plt.ylabel(\"loss\")\n",
    "    plt.grid(True)\n",
    "    plt.show()\n",
    "\n",
    "loss = train_model(model, X,y, num_epochs=10)\n",
    "plot_loss(loss)\n"
   ]
  },
  {
   "cell_type": "markdown",
   "id": "204fa3d20d04d151",
   "metadata": {},
   "source": [
    "## Task 6: Inference"
   ]
  },
  {
   "cell_type": "code",
   "execution_count": 132,
   "id": "373c787c59cf99e",
   "metadata": {},
   "outputs": [],
   "source": [
    "\n",
    "def predict_review_sentiment(text):\n",
    "    model.eval()\n",
    "    device = next(model.parameters()).device\n",
    "\n",
    "    vectors = vectorize(text)\n",
    "    x = torch.tensor([vectors], dtype=torch.float32).to(device)\n",
    "\n",
    "\n",
    "    with torch.no_grad():\n",
    "        logits = model(x)  \n",
    "        probs = torch.softmax(logits, dim=1)  \n",
    "        pred = torch.argmax(probs, dim=1).item()\n",
    "        confidence = probs[0][pred].item()\n",
    "\n",
    "    \n",
    "    sentiment = \"positive\" if pred == 1 else \"negative\"\n",
    "    return f\"{sentiment} ({confidence:.2f} confidence)\""
   ]
  },
  {
   "cell_type": "code",
   "execution_count": 133,
   "id": "f802f6080ece39ab",
   "metadata": {},
   "outputs": [
    {
     "name": "stderr",
     "output_type": "stream",
     "text": [
      "C:\\Users\\balkh\\AppData\\Local\\Temp\\ipykernel_18564\\3893178516.py:6: UserWarning: Creating a tensor from a list of numpy.ndarrays is extremely slow. Please consider converting the list to a single numpy.ndarray with numpy.array() before converting to a tensor. (Triggered internally at C:\\cb\\pytorch_1000000000000\\work\\torch\\csrc\\utils\\tensor_new.cpp:281.)\n",
      "  x = torch.tensor([vectors], dtype=torch.float32).to(device)\n"
     ]
    },
    {
     "data": {
      "text/plain": [
       "'positive (1.00 confidence)'"
      ]
     },
     "execution_count": 133,
     "metadata": {},
     "output_type": "execute_result"
    }
   ],
   "source": [
    "predict_review_sentiment(\"I love this movie! It's fantastic and uplifting.\")  # Should return \"Positive\""
   ]
  },
  {
   "cell_type": "code",
   "execution_count": 134,
   "id": "d1b7a8dcd00747a7",
   "metadata": {},
   "outputs": [
    {
     "data": {
      "text/plain": [
       "'positive (0.99 confidence)'"
      ]
     },
     "execution_count": 134,
     "metadata": {},
     "output_type": "execute_result"
    }
   ],
   "source": [
    "predict_review_sentiment(\"This movie was terrible. I hated it.\")  # Should return \"Negative\""
   ]
  },
  {
   "cell_type": "code",
   "execution_count": 135,
   "id": "edacf864767b751d",
   "metadata": {},
   "outputs": [
    {
     "data": {
      "text/plain": [
       "'positive (1.00 confidence)'"
      ]
     },
     "execution_count": 135,
     "metadata": {},
     "output_type": "execute_result"
    }
   ],
   "source": [
    "predict_review_sentiment(\"I didn't like the ending, but I love the music.\") # Mixed sentiment"
   ]
  },
  {
   "cell_type": "code",
   "execution_count": 136,
   "id": "a67b0cb78c751ad3",
   "metadata": {},
   "outputs": [
    {
     "data": {
      "text/plain": [
       "'positive (0.99 confidence)'"
      ]
     },
     "execution_count": 136,
     "metadata": {},
     "output_type": "execute_result"
    }
   ],
   "source": [
    "predict_review_sentiment(\"I didn't like the ending.\")"
   ]
  },
  {
   "cell_type": "code",
   "execution_count": 137,
   "id": "7470c75d7ca3ca1f",
   "metadata": {},
   "outputs": [
    {
     "data": {
      "text/plain": [
       "'positive (0.97 confidence)'"
      ]
     },
     "execution_count": 137,
     "metadata": {},
     "output_type": "execute_result"
    }
   ],
   "source": [
    "predict_review_sentiment(\"i love the music.\")"
   ]
  },
  {
   "cell_type": "code",
   "execution_count": 138,
   "id": "8712c9585c93221",
   "metadata": {},
   "outputs": [
    {
     "data": {
      "text/plain": [
       "'positive (0.97 confidence)'"
      ]
     },
     "execution_count": 138,
     "metadata": {},
     "output_type": "execute_result"
    }
   ],
   "source": [
    "predict_review_sentiment(\"but i love the music.\")"
   ]
  },
  {
   "cell_type": "code",
   "execution_count": 139,
   "id": "59ba92dd20348db7",
   "metadata": {},
   "outputs": [
    {
     "data": {
      "text/plain": [
       "'positive (0.77 confidence)'"
      ]
     },
     "execution_count": 139,
     "metadata": {},
     "output_type": "execute_result"
    }
   ],
   "source": [
    "predict_review_sentiment(\"i love\")"
   ]
  },
  {
   "cell_type": "code",
   "execution_count": 140,
   "id": "1c8367b5a03bebbe",
   "metadata": {},
   "outputs": [
    {
     "data": {
      "text/plain": [
       "'negative (0.53 confidence)'"
      ]
     },
     "execution_count": 140,
     "metadata": {},
     "output_type": "execute_result"
    }
   ],
   "source": [
    "predict_review_sentiment(\"but\")"
   ]
  },
  {
   "cell_type": "code",
   "execution_count": 141,
   "id": "94657635db294566",
   "metadata": {},
   "outputs": [
    {
     "data": {
      "text/plain": [
       "'positive (0.94 confidence)'"
      ]
     },
     "execution_count": 141,
     "metadata": {},
     "output_type": "execute_result"
    }
   ],
   "source": [
    "predict_review_sentiment(\"i don't love\")"
   ]
  },
  {
   "cell_type": "markdown",
   "id": "8f42a0bb",
   "metadata": {},
   "source": [
    "number of heads.. split the matrix into small parts. \n",
    "having too many heads would mean i split the amtrix into very small chunks and when they're too small, they would lose information. \n",
    "the threshold would depend on the model and this needs to be tweaked\n",
    "\n",
    "dimension going into the PWFF would be the same as the output\n",
    "but inside the pwff it would change, because i'm expanding the input inside the PWFF\n",
    "\n",
    "\n",
    "Task 2; parameters encoder: \n",
    "attention params: 3 * n_heads * (d_Model * d_k + d_k) (d_k is the biases)\n",
    "\n",
    "\n",
    "multiple encoder blocks would have the same dimension, but different params. (can't multiply the params)\n",
    "\n",
    "\n",
    "you tend to keep the same dimensions for encoder blocks as you want to maintain as much information as possible \n",
    "\n",
    "maintain the size of the input.. different dimension, but it's not useful\n",
    "\n"
   ]
  }
 ],
 "metadata": {
  "kernelspec": {
   "display_name": "Pyenv",
   "language": "python",
   "name": "myenv"
  },
  "language_info": {
   "codemirror_mode": {
    "name": "ipython",
    "version": 3
   },
   "file_extension": ".py",
   "mimetype": "text/x-python",
   "name": "python",
   "nbconvert_exporter": "python",
   "pygments_lexer": "ipython3",
   "version": "3.11.11"
  }
 },
 "nbformat": 4,
 "nbformat_minor": 5
}
