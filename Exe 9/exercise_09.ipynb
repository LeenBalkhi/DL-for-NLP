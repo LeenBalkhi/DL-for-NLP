{
 "cells": [
  {
   "cell_type": "markdown",
   "id": "aa516a0992d78628",
   "metadata": {},
   "source": [
    "# Exercise 10: Code Completion"
   ]
  },
  {
   "cell_type": "markdown",
   "id": "9be39debbadc3e82",
   "metadata": {},
   "source": [
    "## Task 1\n",
    "\n",
    "Review the website: Generating text with transformers: https://huggingface.co/spaces/codeparrot/code-generation-models}. In particular, review:\n",
    "- The different models' architectures  of `CodeParrot`, `InCoder`, `CodeGen`, `PolyCoder`.\n",
    "- How to import the different models with Python.\n",
    "- How to generate code.\n",
    "- How to evaluate the model.\t"
   ]
  },
  {
   "cell_type": "markdown",
   "id": "433d18994b654b1d",
   "metadata": {},
   "source": [
    "### [`CodeParrot`](https://huggingface.co/codeparrot/codeparrot)"
   ]
  },
  {
   "cell_type": "markdown",
   "id": "2fea6ae3d5c62ce7",
   "metadata": {},
   "source": [
    "### [`InCoder`](https://huggingface.co/facebook/incoder-1B)"
   ]
  },
  {
   "cell_type": "markdown",
   "id": "db4fb67df026d89b",
   "metadata": {},
   "source": [
    "### [`CodeGen`](https://huggingface.co/salesforce/codegen-350M-multi)"
   ]
  },
  {
   "cell_type": "markdown",
   "id": "ce65e2f425f1c16b",
   "metadata": {},
   "source": [
    "### [`PolyCoder`](https://github.com/vhellendoorn/code-lms)"
   ]
  },
  {
   "cell_type": "markdown",
   "id": "7ccafd3ce0196637",
   "metadata": {},
   "source": [
    "## Task 2: PolyCoder"
   ]
  },
  {
   "cell_type": "code",
   "execution_count": null,
   "id": "177e5b5fac23ed25",
   "metadata": {},
   "outputs": [],
   "source": [
    "model = ...\n",
    "tokenizer = ...\n",
    "\n",
    "def complete_code(code_snippet, max_length=100):\n",
    "    # todo"
   ]
  },
  {
   "cell_type": "code",
   "execution_count": null,
   "id": "d9222450f7e5b9b8",
   "metadata": {},
   "outputs": [],
   "source": [
    "print(complete_code(\"def fibonacci(n):\\n    if n <= 0:\\n        return 0\\n    elif n == 1:\\n        return 1\\n    else:\", max_length=70))"
   ]
  },
  {
   "cell_type": "code",
   "execution_count": null,
   "id": "937093df4a5cd70b",
   "metadata": {},
   "outputs": [],
   "source": [
    "print(complete_code(\"def sort_array(arr):\\n    n = \", max_length=300))"
   ]
  },
  {
   "cell_type": "markdown",
   "id": "937b8945567d93e7",
   "metadata": {},
   "source": [
    "## Task 3: Metric `code_eval`"
   ]
  },
  {
   "cell_type": "code",
   "execution_count": null,
   "id": "9e8a6b149e58f473",
   "metadata": {},
   "outputs": [],
   "source": [
    "from evaluate import load\n",
    "code_eval = load(\"code_eval\")"
   ]
  },
  {
   "cell_type": "code",
   "execution_count": null,
   "id": "22b9f317d4dccd8e",
   "metadata": {},
   "outputs": [],
   "source": [
    "predictions = [[\n",
    "    # todo\n",
    "]]\n",
    "\n",
    "references = [\n",
    "        \"assert \", # todo complete the asserts\n",
    "]\n",
    "\n",
    "results = code_eval.compute(predictions=predictions, references=references)\n",
    "print(results)"
   ]
  },
  {
   "cell_type": "markdown",
   "id": "f2534679",
   "metadata": {},
   "source": [
    "beam search.. greedy search ..\n",
    "\n",
    "\n",
    "temperature: \n",
    "1- creative but stable (not random)\n",
    "added to softmax to modify probability distribution. "
   ]
  }
 ],
 "metadata": {
  "kernelspec": {
   "display_name": "Python 3",
   "language": "python",
   "name": "python3"
  },
  "language_info": {
   "codemirror_mode": {
    "name": "ipython",
    "version": 2
   },
   "file_extension": ".py",
   "mimetype": "text/x-python",
   "name": "python",
   "nbconvert_exporter": "python",
   "pygments_lexer": "ipython2",
   "version": "2.7.6"
  }
 },
 "nbformat": 4,
 "nbformat_minor": 5
}
